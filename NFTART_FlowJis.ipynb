{
 "cells": [
  {
   "cell_type": "markdown",
   "metadata": {},
   "source": [
    "#                                          NFT ART"
   ]
  },
  {
   "cell_type": "markdown",
   "metadata": {},
   "source": [
    "## FLOWJIS\n"
   ]
  },
  {
   "cell_type": "markdown",
   "metadata": {},
   "source": [
    "The purpose of this project is to generate a nft collection using python.The main library used in this project will be PIL for image treatment,but others such as Numpy will also be used.\n",
    "To generate the images different layers will be created.The core elements in the layers will be:\n",
    "\n",
    "- Color Hex to create a random color's palette.\n",
    "- Flower image \n",
    "- An emoji database"
   ]
  },
  {
   "cell_type": "code",
   "execution_count": 1,
   "metadata": {},
   "outputs": [],
   "source": [
    "#Import modules\n",
    "\n",
    "import os\n",
    "from PIL import Image, ImageDraw,ImageFilter\n",
    "import random\n",
    "import numpy as np\n"
   ]
  },
  {
   "cell_type": "markdown",
   "metadata": {},
   "source": [
    "### First Layer\n",
    "\n",
    "In this first layer an image will be generated from scratch using PIL library,this will be the background and base image.To generate different backgrounds a random RGB color will always be generated using de random method."
   ]
  },
  {
   "cell_type": "code",
   "execution_count": 2,
   "metadata": {},
   "outputs": [
    {
     "name": "stdout",
     "output_type": "stream",
     "text": [
      "(791, 770, 536)\n"
     ]
    }
   ],
   "source": [
    "rgb=np.random.randint(0,1000,size=3)\n",
    "rgb=tuple(rgb)\n",
    "print(rgb)"
   ]
  },
  {
   "cell_type": "code",
   "execution_count": 8,
   "metadata": {},
   "outputs": [],
   "source": [
    "width=500\n",
    "height=500\n",
    "\n",
    "#This will be de background of the collage\n",
    "background=Image.new (mode = \"RGB\",size=(width,height),color=(518, 68, 26)\n",
    ")\n",
    "background.save('/home/laura/Desktop/TheLab/nft/background1.png',quality=95)\n",
    "background.show()"
   ]
  },
  {
   "cell_type": "markdown",
   "metadata": {},
   "source": [
    "### Second Layer"
   ]
  },
  {
   "cell_type": "markdown",
   "metadata": {},
   "source": [
    "In this second layer using numpy a new image will be modify,in this case it will be a flower which petals will have a random color palette."
   ]
  },
  {
   "cell_type": "code",
   "execution_count": 10,
   "metadata": {},
   "outputs": [],
   "source": [
    "flower=Image.open('flowers.png')\n",
    "\n",
    "flower.show()\n",
    "#flower=np.array(flower)\n",
    "#petals=flower.reshape(-1,flower.shape[-1])\n",
    "#petals.shape\n"
   ]
  },
  {
   "cell_type": "code",
   "execution_count": 11,
   "metadata": {},
   "outputs": [],
   "source": [
    "emoji=Image.open('002-happy.png')\n",
    "emoji.show()"
   ]
  },
  {
   "cell_type": "code",
   "execution_count": 6,
   "metadata": {},
   "outputs": [],
   "source": [
    "background.paste(flower)\n",
    "background.save('/home/laura/Desktop/TheLab/nft/new1.png',quality=95)\n",
    "new1=Image.open('new1.png')\n",
    "new1.show()"
   ]
  },
  {
   "cell_type": "markdown",
   "metadata": {},
   "source": [
    "### Third Layer"
   ]
  },
  {
   "cell_type": "markdown",
   "metadata": {},
   "source": [
    "In this third layer the emoji icons are randomly selected from a parent folder."
   ]
  },
  {
   "cell_type": "code",
   "execution_count": 12,
   "metadata": {},
   "outputs": [
    {
     "name": "stdout",
     "output_type": "stream",
     "text": [
      "092-girl-1.png\n"
     ]
    }
   ],
   "source": [
    "path = r\"/home/laura/Desktop/TheLab/nft/Emojis\"\n",
    "a=random.choice(os.listdir(path))\n",
    "print(a)\n",
    "\n",
    "file = os.path.join(path,a)\n",
    "Image.open(file).show()\n",
    "#files=os.listdir(path)\n",
    "#emoji=random.choice(files)\n",
    "#print(emoji)\n"
   ]
  },
  {
   "cell_type": "code",
   "execution_count": null,
   "metadata": {},
   "outputs": [],
   "source": []
  }
 ],
 "metadata": {
  "kernelspec": {
   "display_name": "Python 3",
   "language": "python",
   "name": "python3"
  },
  "language_info": {
   "codemirror_mode": {
    "name": "ipython",
    "version": 3
   },
   "file_extension": ".py",
   "mimetype": "text/x-python",
   "name": "python",
   "nbconvert_exporter": "python",
   "pygments_lexer": "ipython3",
   "version": "3.8.10"
  }
 },
 "nbformat": 4,
 "nbformat_minor": 4
}
