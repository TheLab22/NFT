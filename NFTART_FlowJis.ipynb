{
 "cells": [
  {
   "cell_type": "markdown",
   "metadata": {},
   "source": [
    "#                                          NFT ART"
   ]
  },
  {
   "cell_type": "markdown",
   "metadata": {},
   "source": [
    "## FLOWJIS\n"
   ]
  },
  {
   "cell_type": "markdown",
   "metadata": {},
   "source": [
    "The purpose of this project is to generate a nft collection using python.The main library used in this project will be PIL for image treatment,but others such as Numpy will also be used.\n",
    "To generate the images different layers will be created.The core elements in the layers will be:\n",
    "\n",
    "- Color Hex to create a random color's palette.\n",
    "- Flower image \n",
    "- An emoji database"
   ]
  },
  {
   "cell_type": "code",
   "execution_count": 1,
   "metadata": {},
   "outputs": [],
   "source": [
    "#Import modules\n",
    "\n",
    "from PIL import Image\n",
    "import random\n",
    "import numpy as np"
   ]
  },
  {
   "cell_type": "markdown",
   "metadata": {},
   "source": [
    "### First Layer\n",
    "\n",
    "In this first layer an image will be generated from scratch using PIL library,this will be the background and base image.To generate different backgrounds a random RGB color will always be generated using de random method."
   ]
  },
  {
   "cell_type": "code",
   "execution_count": 2,
   "metadata": {},
   "outputs": [
    {
     "name": "stdout",
     "output_type": "stream",
     "text": [
      "(508, 686, 206)\n"
     ]
    }
   ],
   "source": [
    "rgb=np.random.randint(0,1000,size=3)\n",
    "rgb=tuple(rgb)\n",
    "print(rgb)"
   ]
  },
  {
   "cell_type": "code",
   "execution_count": 6,
   "metadata": {},
   "outputs": [],
   "source": [
    "width=400\n",
    "height=300\n",
    "\n",
    "img=Image.new (mode = \"RGB\",size=(width,height),color=(508, 686, 26)\n",
    ")\n",
    "img.show()"
   ]
  },
  {
   "cell_type": "code",
   "execution_count": null,
   "metadata": {},
   "outputs": [],
   "source": [
    "img1=Image.open('')"
   ]
  }
 ],
 "metadata": {
  "kernelspec": {
   "display_name": "Python 3",
   "language": "python",
   "name": "python3"
  },
  "language_info": {
   "codemirror_mode": {
    "name": "ipython",
    "version": 3
   },
   "file_extension": ".py",
   "mimetype": "text/x-python",
   "name": "python",
   "nbconvert_exporter": "python",
   "pygments_lexer": "ipython3",
   "version": "3.8.10"
  }
 },
 "nbformat": 4,
 "nbformat_minor": 4
}
